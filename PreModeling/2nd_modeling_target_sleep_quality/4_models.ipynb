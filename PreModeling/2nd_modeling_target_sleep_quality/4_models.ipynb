{
 "cells": [
  {
   "cell_type": "code",
   "execution_count": 328,
   "id": "40640ae0",
   "metadata": {},
   "outputs": [],
   "source": [
    "import pandas as pd\n",
    "from pathlib import Path\n",
    "import matplotlib.pyplot as plt\n",
    "from sklearn.linear_model import LinearRegression, Lasso, Ridge\n",
    "from sklearn.tree import DecisionTreeRegressor"
   ]
  },
  {
   "cell_type": "code",
   "execution_count": 329,
   "id": "93f5f5a8",
   "metadata": {},
   "outputs": [
    {
     "data": {
      "text/html": [
       "<div>\n",
       "<style scoped>\n",
       "    .dataframe tbody tr th:only-of-type {\n",
       "        vertical-align: middle;\n",
       "    }\n",
       "\n",
       "    .dataframe tbody tr th {\n",
       "        vertical-align: top;\n",
       "    }\n",
       "\n",
       "    .dataframe thead th {\n",
       "        text-align: right;\n",
       "    }\n",
       "</style>\n",
       "<table border=\"1\" class=\"dataframe\">\n",
       "  <thead>\n",
       "    <tr style=\"text-align: right;\">\n",
       "      <th></th>\n",
       "      <th>Sleep quality</th>\n",
       "      <th>Time in bed</th>\n",
       "      <th>Activity (steps)</th>\n",
       "      <th>Stressful day Total</th>\n",
       "      <th>Drank coffee Total</th>\n",
       "      <th>Drank tea Total</th>\n",
       "      <th>Ate late Total</th>\n",
       "      <th>Worked out Total</th>\n",
       "      <th>Fell asleep</th>\n",
       "    </tr>\n",
       "  </thead>\n",
       "  <tbody>\n",
       "    <tr>\n",
       "      <th>0</th>\n",
       "      <td>65</td>\n",
       "      <td>452</td>\n",
       "      <td>0</td>\n",
       "      <td>0</td>\n",
       "      <td>0</td>\n",
       "      <td>0</td>\n",
       "      <td>0</td>\n",
       "      <td>0</td>\n",
       "      <td>2231</td>\n",
       "    </tr>\n",
       "    <tr>\n",
       "      <th>1</th>\n",
       "      <td>89</td>\n",
       "      <td>530</td>\n",
       "      <td>0</td>\n",
       "      <td>0</td>\n",
       "      <td>1</td>\n",
       "      <td>1</td>\n",
       "      <td>0</td>\n",
       "      <td>0</td>\n",
       "      <td>2238</td>\n",
       "    </tr>\n",
       "    <tr>\n",
       "      <th>2</th>\n",
       "      <td>100</td>\n",
       "      <td>512</td>\n",
       "      <td>0</td>\n",
       "      <td>0</td>\n",
       "      <td>0</td>\n",
       "      <td>0</td>\n",
       "      <td>0</td>\n",
       "      <td>0</td>\n",
       "      <td>2257</td>\n",
       "    </tr>\n",
       "    <tr>\n",
       "      <th>3</th>\n",
       "      <td>87</td>\n",
       "      <td>442</td>\n",
       "      <td>0</td>\n",
       "      <td>0</td>\n",
       "      <td>0</td>\n",
       "      <td>1</td>\n",
       "      <td>0</td>\n",
       "      <td>0</td>\n",
       "      <td>2132</td>\n",
       "    </tr>\n",
       "    <tr>\n",
       "      <th>4</th>\n",
       "      <td>93</td>\n",
       "      <td>483</td>\n",
       "      <td>0</td>\n",
       "      <td>1</td>\n",
       "      <td>1</td>\n",
       "      <td>1</td>\n",
       "      <td>0</td>\n",
       "      <td>0</td>\n",
       "      <td>13</td>\n",
       "    </tr>\n",
       "  </tbody>\n",
       "</table>\n",
       "</div>"
      ],
      "text/plain": [
       "   Sleep quality  Time in bed  Activity (steps)  Stressful day Total  \\\n",
       "0             65          452                 0                    0   \n",
       "1             89          530                 0                    0   \n",
       "2            100          512                 0                    0   \n",
       "3             87          442                 0                    0   \n",
       "4             93          483                 0                    1   \n",
       "\n",
       "   Drank coffee Total  Drank tea Total  Ate late Total  Worked out Total  \\\n",
       "0                   0                0               0                 0   \n",
       "1                   1                1               0                 0   \n",
       "2                   0                0               0                 0   \n",
       "3                   0                1               0                 0   \n",
       "4                   1                1               0                 0   \n",
       "\n",
       "   Fell asleep  \n",
       "0         2231  \n",
       "1         2238  \n",
       "2         2257  \n",
       "3         2132  \n",
       "4           13  "
      ]
     },
     "execution_count": 329,
     "metadata": {},
     "output_type": "execute_result"
    }
   ],
   "source": [
    "df = pd.read_csv(Path('./df_transformed.csv'))\n",
    "df.head()"
   ]
  },
  {
   "cell_type": "code",
   "execution_count": 330,
   "id": "a017e1bb",
   "metadata": {},
   "outputs": [
    {
     "data": {
      "text/html": [
       "<div>\n",
       "<style scoped>\n",
       "    .dataframe tbody tr th:only-of-type {\n",
       "        vertical-align: middle;\n",
       "    }\n",
       "\n",
       "    .dataframe tbody tr th {\n",
       "        vertical-align: top;\n",
       "    }\n",
       "\n",
       "    .dataframe thead th {\n",
       "        text-align: right;\n",
       "    }\n",
       "</style>\n",
       "<table border=\"1\" class=\"dataframe\">\n",
       "  <thead>\n",
       "    <tr style=\"text-align: right;\">\n",
       "      <th></th>\n",
       "      <th>Sleep quality</th>\n",
       "      <th>Time in bed</th>\n",
       "      <th>Activity (steps)</th>\n",
       "      <th>Fell asleep</th>\n",
       "      <th>Stressful day Total_0</th>\n",
       "      <th>Stressful day Total_1</th>\n",
       "      <th>Drank coffee Total_0</th>\n",
       "      <th>Drank coffee Total_1</th>\n",
       "      <th>Drank tea Total_0</th>\n",
       "      <th>Drank tea Total_1</th>\n",
       "      <th>Ate late Total_0</th>\n",
       "      <th>Ate late Total_1</th>\n",
       "      <th>Worked out Total_0</th>\n",
       "      <th>Worked out Total_1</th>\n",
       "    </tr>\n",
       "  </thead>\n",
       "  <tbody>\n",
       "    <tr>\n",
       "      <th>0</th>\n",
       "      <td>65</td>\n",
       "      <td>452</td>\n",
       "      <td>0</td>\n",
       "      <td>2231</td>\n",
       "      <td>1</td>\n",
       "      <td>0</td>\n",
       "      <td>1</td>\n",
       "      <td>0</td>\n",
       "      <td>1</td>\n",
       "      <td>0</td>\n",
       "      <td>1</td>\n",
       "      <td>0</td>\n",
       "      <td>1</td>\n",
       "      <td>0</td>\n",
       "    </tr>\n",
       "    <tr>\n",
       "      <th>1</th>\n",
       "      <td>89</td>\n",
       "      <td>530</td>\n",
       "      <td>0</td>\n",
       "      <td>2238</td>\n",
       "      <td>1</td>\n",
       "      <td>0</td>\n",
       "      <td>0</td>\n",
       "      <td>1</td>\n",
       "      <td>0</td>\n",
       "      <td>1</td>\n",
       "      <td>1</td>\n",
       "      <td>0</td>\n",
       "      <td>1</td>\n",
       "      <td>0</td>\n",
       "    </tr>\n",
       "    <tr>\n",
       "      <th>2</th>\n",
       "      <td>100</td>\n",
       "      <td>512</td>\n",
       "      <td>0</td>\n",
       "      <td>2257</td>\n",
       "      <td>1</td>\n",
       "      <td>0</td>\n",
       "      <td>1</td>\n",
       "      <td>0</td>\n",
       "      <td>1</td>\n",
       "      <td>0</td>\n",
       "      <td>1</td>\n",
       "      <td>0</td>\n",
       "      <td>1</td>\n",
       "      <td>0</td>\n",
       "    </tr>\n",
       "    <tr>\n",
       "      <th>3</th>\n",
       "      <td>87</td>\n",
       "      <td>442</td>\n",
       "      <td>0</td>\n",
       "      <td>2132</td>\n",
       "      <td>1</td>\n",
       "      <td>0</td>\n",
       "      <td>1</td>\n",
       "      <td>0</td>\n",
       "      <td>0</td>\n",
       "      <td>1</td>\n",
       "      <td>1</td>\n",
       "      <td>0</td>\n",
       "      <td>1</td>\n",
       "      <td>0</td>\n",
       "    </tr>\n",
       "    <tr>\n",
       "      <th>4</th>\n",
       "      <td>93</td>\n",
       "      <td>483</td>\n",
       "      <td>0</td>\n",
       "      <td>13</td>\n",
       "      <td>0</td>\n",
       "      <td>1</td>\n",
       "      <td>0</td>\n",
       "      <td>1</td>\n",
       "      <td>0</td>\n",
       "      <td>1</td>\n",
       "      <td>1</td>\n",
       "      <td>0</td>\n",
       "      <td>1</td>\n",
       "      <td>0</td>\n",
       "    </tr>\n",
       "  </tbody>\n",
       "</table>\n",
       "</div>"
      ],
      "text/plain": [
       "   Sleep quality  Time in bed  Activity (steps)  Fell asleep  \\\n",
       "0             65          452                 0         2231   \n",
       "1             89          530                 0         2238   \n",
       "2            100          512                 0         2257   \n",
       "3             87          442                 0         2132   \n",
       "4             93          483                 0           13   \n",
       "\n",
       "   Stressful day Total_0  Stressful day Total_1  Drank coffee Total_0  \\\n",
       "0                      1                      0                     1   \n",
       "1                      1                      0                     0   \n",
       "2                      1                      0                     1   \n",
       "3                      1                      0                     1   \n",
       "4                      0                      1                     0   \n",
       "\n",
       "   Drank coffee Total_1  Drank tea Total_0  Drank tea Total_1  \\\n",
       "0                     0                  1                  0   \n",
       "1                     1                  0                  1   \n",
       "2                     0                  1                  0   \n",
       "3                     0                  0                  1   \n",
       "4                     1                  0                  1   \n",
       "\n",
       "   Ate late Total_0  Ate late Total_1  Worked out Total_0  Worked out Total_1  \n",
       "0                 1                 0                   1                   0  \n",
       "1                 1                 0                   1                   0  \n",
       "2                 1                 0                   1                   0  \n",
       "3                 1                 0                   1                   0  \n",
       "4                 1                 0                   1                   0  "
      ]
     },
     "execution_count": 330,
     "metadata": {},
     "output_type": "execute_result"
    }
   ],
   "source": [
    "df_binary_encoded = pd.get_dummies(df, columns=[\"Stressful day Total\", \"Drank coffee Total\", \"Drank tea Total\", \"Ate late Total\", \"Worked out Total\"])\n",
    "df_binary_encoded.head()\n"
   ]
  },
  {
   "cell_type": "code",
   "execution_count": 331,
   "id": "9b72bad6",
   "metadata": {},
   "outputs": [
    {
     "data": {
      "text/plain": [
       "(887, 14)"
      ]
     },
     "execution_count": 331,
     "metadata": {},
     "output_type": "execute_result"
    }
   ],
   "source": [
    "df_binary_encoded.shape"
   ]
  },
  {
   "cell_type": "code",
   "execution_count": null,
   "id": "6e28c4b5",
   "metadata": {},
   "outputs": [],
   "source": []
  },
  {
   "cell_type": "code",
   "execution_count": 332,
   "id": "d36805ed",
   "metadata": {},
   "outputs": [],
   "source": [
    "X = df_binary_encoded.drop('Sleep quality', axis=1)\n",
    "\n",
    "y = df_binary_encoded.iloc[:,0].copy()"
   ]
  },
  {
   "cell_type": "code",
   "execution_count": 333,
   "id": "5b7ea0d4",
   "metadata": {},
   "outputs": [],
   "source": [
    "from sklearn.model_selection import train_test_split\n",
    "X_train, X_test, y_train, y_test = train_test_split(X, y, random_state=1)\n"
   ]
  },
  {
   "cell_type": "code",
   "execution_count": 334,
   "id": "48e8c415",
   "metadata": {},
   "outputs": [],
   "source": [
    "from sklearn.preprocessing import StandardScaler\n",
    "data_scaler = StandardScaler()"
   ]
  },
  {
   "cell_type": "code",
   "execution_count": 335,
   "id": "7d5fa09d",
   "metadata": {},
   "outputs": [],
   "source": [
    "df_scaled = data_scaler.fit_transform(X_train)"
   ]
  },
  {
   "cell_type": "code",
   "execution_count": null,
   "id": "38e28234",
   "metadata": {},
   "outputs": [],
   "source": []
  },
  {
   "cell_type": "code",
   "execution_count": 336,
   "id": "5cee4868",
   "metadata": {},
   "outputs": [
    {
     "data": {
      "text/plain": [
       "array([[-0.10497786, -0.77149819,  0.4102385 ,  0.27891896, -0.27891896,\n",
       "        -0.82162216,  0.82162216, -1.00754728,  1.00754728,  0.17609018,\n",
       "        -0.17609018, -1.18352103,  1.18352103],\n",
       "       [-0.49690355,  0.71419117,  0.51789419,  0.27891896, -0.27891896,\n",
       "         1.21710447, -1.21710447,  0.99250926, -0.99250926,  0.17609018,\n",
       "        -0.17609018,  0.8449364 , -0.8449364 ],\n",
       "       [ 0.19193554, -0.77149819,  0.23738289,  0.27891896, -0.27891896,\n",
       "        -0.82162216,  0.82162216,  0.99250926, -0.99250926,  0.17609018,\n",
       "        -0.17609018,  0.8449364 , -0.8449364 ],\n",
       "       [ 0.52447854,  0.03523028,  0.3238107 ,  0.27891896, -0.27891896,\n",
       "        -0.82162216,  0.82162216, -1.00754728,  1.00754728,  0.17609018,\n",
       "        -0.17609018, -1.18352103,  1.18352103],\n",
       "       [ 0.21568861,  1.03432151,  0.25557822,  0.27891896, -0.27891896,\n",
       "         1.21710447, -1.21710447,  0.99250926, -0.99250926,  0.17609018,\n",
       "        -0.17609018,  0.8449364 , -0.8449364 ]])"
      ]
     },
     "execution_count": 336,
     "metadata": {},
     "output_type": "execute_result"
    }
   ],
   "source": [
    "df_scaled[:5]"
   ]
  },
  {
   "cell_type": "code",
   "execution_count": 337,
   "id": "b084a9c1",
   "metadata": {},
   "outputs": [
    {
     "name": "stdout",
     "output_type": "stream",
     "text": [
      "-1.389030912012226e-16\n",
      "1.0\n"
     ]
    }
   ],
   "source": [
    "import numpy as np\n",
    "print(np.mean(df_scaled[:,0]))\n",
    "print(np.std(df_scaled[:,0]))"
   ]
  },
  {
   "cell_type": "code",
   "execution_count": 338,
   "id": "58133cd2",
   "metadata": {},
   "outputs": [
    {
     "data": {
      "text/html": [
       "<div>\n",
       "<style scoped>\n",
       "    .dataframe tbody tr th:only-of-type {\n",
       "        vertical-align: middle;\n",
       "    }\n",
       "\n",
       "    .dataframe tbody tr th {\n",
       "        vertical-align: top;\n",
       "    }\n",
       "\n",
       "    .dataframe thead th {\n",
       "        text-align: right;\n",
       "    }\n",
       "</style>\n",
       "<table border=\"1\" class=\"dataframe\">\n",
       "  <thead>\n",
       "    <tr style=\"text-align: right;\">\n",
       "      <th></th>\n",
       "      <th>0</th>\n",
       "      <th>1</th>\n",
       "      <th>2</th>\n",
       "      <th>3</th>\n",
       "      <th>4</th>\n",
       "      <th>5</th>\n",
       "      <th>6</th>\n",
       "      <th>7</th>\n",
       "      <th>8</th>\n",
       "      <th>9</th>\n",
       "      <th>10</th>\n",
       "      <th>11</th>\n",
       "      <th>12</th>\n",
       "    </tr>\n",
       "  </thead>\n",
       "  <tbody>\n",
       "    <tr>\n",
       "      <th>0</th>\n",
       "      <td>-0.104978</td>\n",
       "      <td>-0.771498</td>\n",
       "      <td>0.410239</td>\n",
       "      <td>0.278919</td>\n",
       "      <td>-0.278919</td>\n",
       "      <td>-0.821622</td>\n",
       "      <td>0.821622</td>\n",
       "      <td>-1.007547</td>\n",
       "      <td>1.007547</td>\n",
       "      <td>0.17609</td>\n",
       "      <td>-0.17609</td>\n",
       "      <td>-1.183521</td>\n",
       "      <td>1.183521</td>\n",
       "    </tr>\n",
       "    <tr>\n",
       "      <th>1</th>\n",
       "      <td>-0.496904</td>\n",
       "      <td>0.714191</td>\n",
       "      <td>0.517894</td>\n",
       "      <td>0.278919</td>\n",
       "      <td>-0.278919</td>\n",
       "      <td>1.217104</td>\n",
       "      <td>-1.217104</td>\n",
       "      <td>0.992509</td>\n",
       "      <td>-0.992509</td>\n",
       "      <td>0.17609</td>\n",
       "      <td>-0.17609</td>\n",
       "      <td>0.844936</td>\n",
       "      <td>-0.844936</td>\n",
       "    </tr>\n",
       "    <tr>\n",
       "      <th>2</th>\n",
       "      <td>0.191936</td>\n",
       "      <td>-0.771498</td>\n",
       "      <td>0.237383</td>\n",
       "      <td>0.278919</td>\n",
       "      <td>-0.278919</td>\n",
       "      <td>-0.821622</td>\n",
       "      <td>0.821622</td>\n",
       "      <td>0.992509</td>\n",
       "      <td>-0.992509</td>\n",
       "      <td>0.17609</td>\n",
       "      <td>-0.17609</td>\n",
       "      <td>0.844936</td>\n",
       "      <td>-0.844936</td>\n",
       "    </tr>\n",
       "    <tr>\n",
       "      <th>3</th>\n",
       "      <td>0.524479</td>\n",
       "      <td>0.035230</td>\n",
       "      <td>0.323811</td>\n",
       "      <td>0.278919</td>\n",
       "      <td>-0.278919</td>\n",
       "      <td>-0.821622</td>\n",
       "      <td>0.821622</td>\n",
       "      <td>-1.007547</td>\n",
       "      <td>1.007547</td>\n",
       "      <td>0.17609</td>\n",
       "      <td>-0.17609</td>\n",
       "      <td>-1.183521</td>\n",
       "      <td>1.183521</td>\n",
       "    </tr>\n",
       "    <tr>\n",
       "      <th>4</th>\n",
       "      <td>0.215689</td>\n",
       "      <td>1.034322</td>\n",
       "      <td>0.255578</td>\n",
       "      <td>0.278919</td>\n",
       "      <td>-0.278919</td>\n",
       "      <td>1.217104</td>\n",
       "      <td>-1.217104</td>\n",
       "      <td>0.992509</td>\n",
       "      <td>-0.992509</td>\n",
       "      <td>0.17609</td>\n",
       "      <td>-0.17609</td>\n",
       "      <td>0.844936</td>\n",
       "      <td>-0.844936</td>\n",
       "    </tr>\n",
       "  </tbody>\n",
       "</table>\n",
       "</div>"
      ],
      "text/plain": [
       "         0         1         2         3         4         5         6   \\\n",
       "0 -0.104978 -0.771498  0.410239  0.278919 -0.278919 -0.821622  0.821622   \n",
       "1 -0.496904  0.714191  0.517894  0.278919 -0.278919  1.217104 -1.217104   \n",
       "2  0.191936 -0.771498  0.237383  0.278919 -0.278919 -0.821622  0.821622   \n",
       "3  0.524479  0.035230  0.323811  0.278919 -0.278919 -0.821622  0.821622   \n",
       "4  0.215689  1.034322  0.255578  0.278919 -0.278919  1.217104 -1.217104   \n",
       "\n",
       "         7         8        9        10        11        12  \n",
       "0 -1.007547  1.007547  0.17609 -0.17609 -1.183521  1.183521  \n",
       "1  0.992509 -0.992509  0.17609 -0.17609  0.844936 -0.844936  \n",
       "2  0.992509 -0.992509  0.17609 -0.17609  0.844936 -0.844936  \n",
       "3 -1.007547  1.007547  0.17609 -0.17609 -1.183521  1.183521  \n",
       "4  0.992509 -0.992509  0.17609 -0.17609  0.844936 -0.844936  "
      ]
     },
     "execution_count": 338,
     "metadata": {},
     "output_type": "execute_result"
    }
   ],
   "source": [
    "df = pd.DataFrame(df_scaled)\n",
    "df.head()"
   ]
  },
  {
   "cell_type": "code",
   "execution_count": 339,
   "id": "005e215a",
   "metadata": {},
   "outputs": [
    {
     "data": {
      "text/plain": [
       "0     65\n",
       "1     89\n",
       "2    100\n",
       "3     87\n",
       "4     93\n",
       "Name: Sleep quality, dtype: int64"
      ]
     },
     "execution_count": 339,
     "metadata": {},
     "output_type": "execute_result"
    }
   ],
   "source": [
    "\n",
    "y.head()"
   ]
  },
  {
   "cell_type": "code",
   "execution_count": 340,
   "id": "9bc09678",
   "metadata": {},
   "outputs": [],
   "source": [
    "from sklearn.model_selection import train_test_split\n",
    "X_train, X_test, y_train, y_test = train_test_split(X, y, random_state=1)\n"
   ]
  },
  {
   "cell_type": "code",
   "execution_count": 341,
   "id": "4e17445e",
   "metadata": {},
   "outputs": [
    {
     "data": {
      "text/plain": [
       "LinearRegression()"
      ]
     },
     "execution_count": 341,
     "metadata": {},
     "output_type": "execute_result"
    }
   ],
   "source": [
    "from sklearn.linear_model import LinearRegression\n",
    "linear = LinearRegression()\n",
    "linear\n"
   ]
  },
  {
   "cell_type": "code",
   "execution_count": 342,
   "id": "4a272d92",
   "metadata": {},
   "outputs": [
    {
     "data": {
      "text/plain": [
       "LinearRegression()"
      ]
     },
     "execution_count": 342,
     "metadata": {},
     "output_type": "execute_result"
    }
   ],
   "source": [
    "# Train the data\n",
    "linear.fit(X_train, y_train)\n"
   ]
  },
  {
   "cell_type": "code",
   "execution_count": 343,
   "id": "6dd0a3cb",
   "metadata": {},
   "outputs": [
    {
     "data": {
      "text/html": [
       "<div>\n",
       "<style scoped>\n",
       "    .dataframe tbody tr th:only-of-type {\n",
       "        vertical-align: middle;\n",
       "    }\n",
       "\n",
       "    .dataframe tbody tr th {\n",
       "        vertical-align: top;\n",
       "    }\n",
       "\n",
       "    .dataframe thead th {\n",
       "        text-align: right;\n",
       "    }\n",
       "</style>\n",
       "<table border=\"1\" class=\"dataframe\">\n",
       "  <thead>\n",
       "    <tr style=\"text-align: right;\">\n",
       "      <th></th>\n",
       "      <th>Prediction</th>\n",
       "      <th>Actual</th>\n",
       "    </tr>\n",
       "  </thead>\n",
       "  <tbody>\n",
       "    <tr>\n",
       "      <th>522</th>\n",
       "      <td>80.772393</td>\n",
       "      <td>79</td>\n",
       "    </tr>\n",
       "    <tr>\n",
       "      <th>314</th>\n",
       "      <td>79.054583</td>\n",
       "      <td>86</td>\n",
       "    </tr>\n",
       "    <tr>\n",
       "      <th>768</th>\n",
       "      <td>79.260579</td>\n",
       "      <td>73</td>\n",
       "    </tr>\n",
       "    <tr>\n",
       "      <th>320</th>\n",
       "      <td>71.616312</td>\n",
       "      <td>72</td>\n",
       "    </tr>\n",
       "    <tr>\n",
       "      <th>809</th>\n",
       "      <td>70.284922</td>\n",
       "      <td>74</td>\n",
       "    </tr>\n",
       "    <tr>\n",
       "      <th>...</th>\n",
       "      <td>...</td>\n",
       "      <td>...</td>\n",
       "    </tr>\n",
       "    <tr>\n",
       "      <th>35</th>\n",
       "      <td>76.282396</td>\n",
       "      <td>64</td>\n",
       "    </tr>\n",
       "    <tr>\n",
       "      <th>46</th>\n",
       "      <td>78.570687</td>\n",
       "      <td>80</td>\n",
       "    </tr>\n",
       "    <tr>\n",
       "      <th>255</th>\n",
       "      <td>77.138954</td>\n",
       "      <td>78</td>\n",
       "    </tr>\n",
       "    <tr>\n",
       "      <th>670</th>\n",
       "      <td>81.788098</td>\n",
       "      <td>96</td>\n",
       "    </tr>\n",
       "    <tr>\n",
       "      <th>744</th>\n",
       "      <td>82.677151</td>\n",
       "      <td>82</td>\n",
       "    </tr>\n",
       "  </tbody>\n",
       "</table>\n",
       "<p>222 rows × 2 columns</p>\n",
       "</div>"
      ],
      "text/plain": [
       "     Prediction  Actual\n",
       "522   80.772393      79\n",
       "314   79.054583      86\n",
       "768   79.260579      73\n",
       "320   71.616312      72\n",
       "809   70.284922      74\n",
       "..          ...     ...\n",
       "35    76.282396      64\n",
       "46    78.570687      80\n",
       "255   77.138954      78\n",
       "670   81.788098      96\n",
       "744   82.677151      82\n",
       "\n",
       "[222 rows x 2 columns]"
      ]
     },
     "execution_count": 343,
     "metadata": {},
     "output_type": "execute_result"
    }
   ],
   "source": [
    "# Predict outcomes for test data set\n",
    "y_pred = linear.predict(X_test)\n",
    "pd.DataFrame({\"Prediction\": y_pred, \"Actual\": y_test})"
   ]
  },
  {
   "cell_type": "code",
   "execution_count": 344,
   "id": "44dadb4e",
   "metadata": {},
   "outputs": [
    {
     "data": {
      "text/plain": [
       "0.603248893596652"
      ]
     },
     "execution_count": 344,
     "metadata": {},
     "output_type": "execute_result"
    }
   ],
   "source": [
    "# from sklearn.metrics import accuracy_score\n",
    "\n",
    "linear.score(X_train, y_train)"
   ]
  },
  {
   "cell_type": "code",
   "execution_count": 345,
   "id": "0a7dfcb1",
   "metadata": {},
   "outputs": [
    {
     "data": {
      "text/plain": [
       "Lasso()"
      ]
     },
     "execution_count": 345,
     "metadata": {},
     "output_type": "execute_result"
    }
   ],
   "source": [
    "\n",
    "classo = Lasso()\n",
    "classo"
   ]
  },
  {
   "cell_type": "code",
   "execution_count": 346,
   "id": "ae9181a2",
   "metadata": {},
   "outputs": [
    {
     "data": {
      "text/plain": [
       "Lasso()"
      ]
     },
     "execution_count": 346,
     "metadata": {},
     "output_type": "execute_result"
    }
   ],
   "source": [
    "# Train the data\n",
    "classo.fit(X_train, y_train)"
   ]
  },
  {
   "cell_type": "code",
   "execution_count": 347,
   "id": "115aa733",
   "metadata": {},
   "outputs": [
    {
     "data": {
      "text/html": [
       "<div>\n",
       "<style scoped>\n",
       "    .dataframe tbody tr th:only-of-type {\n",
       "        vertical-align: middle;\n",
       "    }\n",
       "\n",
       "    .dataframe tbody tr th {\n",
       "        vertical-align: top;\n",
       "    }\n",
       "\n",
       "    .dataframe thead th {\n",
       "        text-align: right;\n",
       "    }\n",
       "</style>\n",
       "<table border=\"1\" class=\"dataframe\">\n",
       "  <thead>\n",
       "    <tr style=\"text-align: right;\">\n",
       "      <th></th>\n",
       "      <th>Prediction</th>\n",
       "      <th>Actual</th>\n",
       "    </tr>\n",
       "  </thead>\n",
       "  <tbody>\n",
       "    <tr>\n",
       "      <th>522</th>\n",
       "      <td>79.229796</td>\n",
       "      <td>79</td>\n",
       "    </tr>\n",
       "    <tr>\n",
       "      <th>314</th>\n",
       "      <td>78.748267</td>\n",
       "      <td>86</td>\n",
       "    </tr>\n",
       "    <tr>\n",
       "      <th>768</th>\n",
       "      <td>77.738577</td>\n",
       "      <td>73</td>\n",
       "    </tr>\n",
       "    <tr>\n",
       "      <th>320</th>\n",
       "      <td>69.543845</td>\n",
       "      <td>72</td>\n",
       "    </tr>\n",
       "    <tr>\n",
       "      <th>809</th>\n",
       "      <td>69.110962</td>\n",
       "      <td>74</td>\n",
       "    </tr>\n",
       "    <tr>\n",
       "      <th>...</th>\n",
       "      <td>...</td>\n",
       "      <td>...</td>\n",
       "    </tr>\n",
       "    <tr>\n",
       "      <th>35</th>\n",
       "      <td>75.095852</td>\n",
       "      <td>64</td>\n",
       "    </tr>\n",
       "    <tr>\n",
       "      <th>46</th>\n",
       "      <td>77.403848</td>\n",
       "      <td>80</td>\n",
       "    </tr>\n",
       "    <tr>\n",
       "      <th>255</th>\n",
       "      <td>75.095852</td>\n",
       "      <td>78</td>\n",
       "    </tr>\n",
       "    <tr>\n",
       "      <th>670</th>\n",
       "      <td>80.663491</td>\n",
       "      <td>96</td>\n",
       "    </tr>\n",
       "    <tr>\n",
       "      <th>744</th>\n",
       "      <td>84.031245</td>\n",
       "      <td>82</td>\n",
       "    </tr>\n",
       "  </tbody>\n",
       "</table>\n",
       "<p>222 rows × 2 columns</p>\n",
       "</div>"
      ],
      "text/plain": [
       "     Prediction  Actual\n",
       "522   79.229796      79\n",
       "314   78.748267      86\n",
       "768   77.738577      73\n",
       "320   69.543845      72\n",
       "809   69.110962      74\n",
       "..          ...     ...\n",
       "35    75.095852      64\n",
       "46    77.403848      80\n",
       "255   75.095852      78\n",
       "670   80.663491      96\n",
       "744   84.031245      82\n",
       "\n",
       "[222 rows x 2 columns]"
      ]
     },
     "execution_count": 347,
     "metadata": {},
     "output_type": "execute_result"
    }
   ],
   "source": [
    "# Predict outcomes for test data set\n",
    "y_pred = classo.predict(X_test)\n",
    "pd.DataFrame({\"Prediction\": y_pred, \"Actual\": y_test})"
   ]
  },
  {
   "cell_type": "code",
   "execution_count": 348,
   "id": "3a49e866",
   "metadata": {},
   "outputs": [
    {
     "data": {
      "text/plain": [
       "0.5945859973126337"
      ]
     },
     "execution_count": 348,
     "metadata": {},
     "output_type": "execute_result"
    }
   ],
   "source": [
    "classo.score(X_train, y_train)"
   ]
  },
  {
   "cell_type": "code",
   "execution_count": 349,
   "id": "e306332a",
   "metadata": {},
   "outputs": [],
   "source": [
    "# ............."
   ]
  },
  {
   "cell_type": "code",
   "execution_count": 350,
   "id": "98ec4da6",
   "metadata": {},
   "outputs": [
    {
     "data": {
      "text/plain": [
       "Ridge()"
      ]
     },
     "execution_count": 350,
     "metadata": {},
     "output_type": "execute_result"
    }
   ],
   "source": [
    "ridge = Ridge()\n",
    "ridge"
   ]
  },
  {
   "cell_type": "code",
   "execution_count": 351,
   "id": "6d23d98c",
   "metadata": {},
   "outputs": [
    {
     "data": {
      "text/plain": [
       "Ridge()"
      ]
     },
     "execution_count": 351,
     "metadata": {},
     "output_type": "execute_result"
    }
   ],
   "source": [
    "# Train the data\n",
    "ridge.fit(X_train, y_train)"
   ]
  },
  {
   "cell_type": "code",
   "execution_count": 352,
   "id": "88070aa3",
   "metadata": {},
   "outputs": [
    {
     "data": {
      "text/html": [
       "<div>\n",
       "<style scoped>\n",
       "    .dataframe tbody tr th:only-of-type {\n",
       "        vertical-align: middle;\n",
       "    }\n",
       "\n",
       "    .dataframe tbody tr th {\n",
       "        vertical-align: top;\n",
       "    }\n",
       "\n",
       "    .dataframe thead th {\n",
       "        text-align: right;\n",
       "    }\n",
       "</style>\n",
       "<table border=\"1\" class=\"dataframe\">\n",
       "  <thead>\n",
       "    <tr style=\"text-align: right;\">\n",
       "      <th></th>\n",
       "      <th>Prediction</th>\n",
       "      <th>Actual</th>\n",
       "    </tr>\n",
       "  </thead>\n",
       "  <tbody>\n",
       "    <tr>\n",
       "      <th>522</th>\n",
       "      <td>80.763934</td>\n",
       "      <td>79</td>\n",
       "    </tr>\n",
       "    <tr>\n",
       "      <th>314</th>\n",
       "      <td>79.058355</td>\n",
       "      <td>86</td>\n",
       "    </tr>\n",
       "    <tr>\n",
       "      <th>768</th>\n",
       "      <td>79.259823</td>\n",
       "      <td>73</td>\n",
       "    </tr>\n",
       "    <tr>\n",
       "      <th>320</th>\n",
       "      <td>71.608941</td>\n",
       "      <td>72</td>\n",
       "    </tr>\n",
       "    <tr>\n",
       "      <th>809</th>\n",
       "      <td>70.287187</td>\n",
       "      <td>74</td>\n",
       "    </tr>\n",
       "    <tr>\n",
       "      <th>...</th>\n",
       "      <td>...</td>\n",
       "      <td>...</td>\n",
       "    </tr>\n",
       "    <tr>\n",
       "      <th>35</th>\n",
       "      <td>76.276822</td>\n",
       "      <td>64</td>\n",
       "    </tr>\n",
       "    <tr>\n",
       "      <th>46</th>\n",
       "      <td>78.572625</td>\n",
       "      <td>80</td>\n",
       "    </tr>\n",
       "    <tr>\n",
       "      <th>255</th>\n",
       "      <td>77.131503</td>\n",
       "      <td>78</td>\n",
       "    </tr>\n",
       "    <tr>\n",
       "      <th>670</th>\n",
       "      <td>81.782649</td>\n",
       "      <td>96</td>\n",
       "    </tr>\n",
       "    <tr>\n",
       "      <th>744</th>\n",
       "      <td>82.679206</td>\n",
       "      <td>82</td>\n",
       "    </tr>\n",
       "  </tbody>\n",
       "</table>\n",
       "<p>222 rows × 2 columns</p>\n",
       "</div>"
      ],
      "text/plain": [
       "     Prediction  Actual\n",
       "522   80.763934      79\n",
       "314   79.058355      86\n",
       "768   79.259823      73\n",
       "320   71.608941      72\n",
       "809   70.287187      74\n",
       "..          ...     ...\n",
       "35    76.276822      64\n",
       "46    78.572625      80\n",
       "255   77.131503      78\n",
       "670   81.782649      96\n",
       "744   82.679206      82\n",
       "\n",
       "[222 rows x 2 columns]"
      ]
     },
     "execution_count": 352,
     "metadata": {},
     "output_type": "execute_result"
    }
   ],
   "source": [
    "# Predict outcomes for test data set\n",
    "y_pred = ridge.predict(X_test)\n",
    "pd.DataFrame({\"Prediction\": y_pred, \"Actual\": y_test})"
   ]
  },
  {
   "cell_type": "code",
   "execution_count": 353,
   "id": "f0acde75",
   "metadata": {},
   "outputs": [
    {
     "data": {
      "text/plain": [
       "0.6032485121634987"
      ]
     },
     "execution_count": 353,
     "metadata": {},
     "output_type": "execute_result"
    }
   ],
   "source": [
    "ridge.score(X_train, y_train)"
   ]
  },
  {
   "cell_type": "code",
   "execution_count": 354,
   "id": "fbed2f9c",
   "metadata": {},
   "outputs": [],
   "source": [
    "# ..........."
   ]
  },
  {
   "cell_type": "code",
   "execution_count": 355,
   "id": "dd7dbd3a",
   "metadata": {},
   "outputs": [],
   "source": [
    "decision = DecisionTreeRegressor()"
   ]
  },
  {
   "cell_type": "code",
   "execution_count": 356,
   "id": "430d6526",
   "metadata": {},
   "outputs": [
    {
     "data": {
      "text/plain": [
       "DecisionTreeRegressor()"
      ]
     },
     "execution_count": 356,
     "metadata": {},
     "output_type": "execute_result"
    }
   ],
   "source": [
    "decision.fit(X_train, y_train)"
   ]
  },
  {
   "cell_type": "code",
   "execution_count": 357,
   "id": "58946ef5",
   "metadata": {},
   "outputs": [
    {
     "data": {
      "text/html": [
       "<div>\n",
       "<style scoped>\n",
       "    .dataframe tbody tr th:only-of-type {\n",
       "        vertical-align: middle;\n",
       "    }\n",
       "\n",
       "    .dataframe tbody tr th {\n",
       "        vertical-align: top;\n",
       "    }\n",
       "\n",
       "    .dataframe thead th {\n",
       "        text-align: right;\n",
       "    }\n",
       "</style>\n",
       "<table border=\"1\" class=\"dataframe\">\n",
       "  <thead>\n",
       "    <tr style=\"text-align: right;\">\n",
       "      <th></th>\n",
       "      <th>Prediction</th>\n",
       "      <th>Actual</th>\n",
       "    </tr>\n",
       "  </thead>\n",
       "  <tbody>\n",
       "    <tr>\n",
       "      <th>522</th>\n",
       "      <td>70.0</td>\n",
       "      <td>79</td>\n",
       "    </tr>\n",
       "    <tr>\n",
       "      <th>314</th>\n",
       "      <td>95.0</td>\n",
       "      <td>86</td>\n",
       "    </tr>\n",
       "    <tr>\n",
       "      <th>768</th>\n",
       "      <td>71.0</td>\n",
       "      <td>73</td>\n",
       "    </tr>\n",
       "    <tr>\n",
       "      <th>320</th>\n",
       "      <td>82.0</td>\n",
       "      <td>72</td>\n",
       "    </tr>\n",
       "    <tr>\n",
       "      <th>809</th>\n",
       "      <td>75.0</td>\n",
       "      <td>74</td>\n",
       "    </tr>\n",
       "    <tr>\n",
       "      <th>...</th>\n",
       "      <td>...</td>\n",
       "      <td>...</td>\n",
       "    </tr>\n",
       "    <tr>\n",
       "      <th>35</th>\n",
       "      <td>79.0</td>\n",
       "      <td>64</td>\n",
       "    </tr>\n",
       "    <tr>\n",
       "      <th>46</th>\n",
       "      <td>77.0</td>\n",
       "      <td>80</td>\n",
       "    </tr>\n",
       "    <tr>\n",
       "      <th>255</th>\n",
       "      <td>79.0</td>\n",
       "      <td>78</td>\n",
       "    </tr>\n",
       "    <tr>\n",
       "      <th>670</th>\n",
       "      <td>64.0</td>\n",
       "      <td>96</td>\n",
       "    </tr>\n",
       "    <tr>\n",
       "      <th>744</th>\n",
       "      <td>82.0</td>\n",
       "      <td>82</td>\n",
       "    </tr>\n",
       "  </tbody>\n",
       "</table>\n",
       "<p>222 rows × 2 columns</p>\n",
       "</div>"
      ],
      "text/plain": [
       "     Prediction  Actual\n",
       "522        70.0      79\n",
       "314        95.0      86\n",
       "768        71.0      73\n",
       "320        82.0      72\n",
       "809        75.0      74\n",
       "..          ...     ...\n",
       "35         79.0      64\n",
       "46         77.0      80\n",
       "255        79.0      78\n",
       "670        64.0      96\n",
       "744        82.0      82\n",
       "\n",
       "[222 rows x 2 columns]"
      ]
     },
     "execution_count": 357,
     "metadata": {},
     "output_type": "execute_result"
    }
   ],
   "source": [
    "# Predict outcomes for test data set\n",
    "y_pred = decision.predict(X_test)\n",
    "pd.DataFrame({\"Prediction\": y_pred, \"Actual\": y_test})"
   ]
  },
  {
   "cell_type": "code",
   "execution_count": 358,
   "id": "1cc2adaa",
   "metadata": {},
   "outputs": [
    {
     "data": {
      "text/plain": [
       "1.0"
      ]
     },
     "execution_count": 358,
     "metadata": {},
     "output_type": "execute_result"
    }
   ],
   "source": [
    "decision.score(X_train, y_train)"
   ]
  },
  {
   "cell_type": "code",
   "execution_count": 359,
   "id": "86ce5edc",
   "metadata": {},
   "outputs": [
    {
     "name": "stdout",
     "output_type": "stream",
     "text": [
      "Requirement already satisfied: joblib in /Users/danielsquires/opt/anaconda3/envs/mlenv/lib/python3.7/site-packages (1.1.0)\r\n"
     ]
    }
   ],
   "source": [
    "!pip install joblib"
   ]
  },
  {
   "cell_type": "code",
   "execution_count": 360,
   "id": "acc45eb1",
   "metadata": {},
   "outputs": [
    {
     "data": {
      "text/plain": [
       "['linear.joblib']"
      ]
     },
     "execution_count": 360,
     "metadata": {},
     "output_type": "execute_result"
    }
   ],
   "source": [
    "from joblib import load, dump\n",
    "dump(linear, \"linear.joblib\")"
   ]
  },
  {
   "cell_type": "code",
   "execution_count": 361,
   "id": "ab9e8788",
   "metadata": {},
   "outputs": [
    {
     "data": {
      "text/plain": [
       "'/Users/danielsquires/Desktop/Modeling/2nd_modeling_target_sleep_quality'"
      ]
     },
     "execution_count": 361,
     "metadata": {},
     "output_type": "execute_result"
    }
   ],
   "source": [
    "import os\n",
    "os.getcwd()"
   ]
  },
  {
   "cell_type": "code",
   "execution_count": 362,
   "id": "2ce3c54c",
   "metadata": {},
   "outputs": [],
   "source": [
    "model = load(\"linear.joblib\")"
   ]
  },
  {
   "cell_type": "code",
   "execution_count": null,
   "id": "640ae45d",
   "metadata": {},
   "outputs": [],
   "source": []
  }
 ],
 "metadata": {
  "kernelspec": {
   "display_name": "mlenv",
   "language": "python",
   "name": "mlenv"
  },
  "language_info": {
   "codemirror_mode": {
    "name": "ipython",
    "version": 3
   },
   "file_extension": ".py",
   "mimetype": "text/x-python",
   "name": "python",
   "nbconvert_exporter": "python",
   "pygments_lexer": "ipython3",
   "version": "3.7.11"
  }
 },
 "nbformat": 4,
 "nbformat_minor": 5
}
