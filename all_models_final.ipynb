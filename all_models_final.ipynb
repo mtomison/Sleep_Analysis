{
 "cells": [
  {
   "cell_type": "code",
   "execution_count": 634,
   "id": "c5cefbed",
   "metadata": {},
   "outputs": [],
   "source": [
    "# Import dependencies\n",
    "import pandas as pd\n",
    "from pathlib import Path\n",
    "import matplotlib.pyplot as plt\n",
    "from sklearn.linear_model import LinearRegression, Lasso, Ridge\n",
    "from sklearn.tree import DecisionTreeRegressor\n",
    "from sklearn.preprocessing import StandardScaler\n",
    "import statsmodels.api as sm"
   ]
  },
  {
   "cell_type": "code",
   "execution_count": 635,
   "id": "2c2d75fe",
   "metadata": {},
   "outputs": [
    {
     "data": {
      "text/html": [
       "<div>\n",
       "<style scoped>\n",
       "    .dataframe tbody tr th:only-of-type {\n",
       "        vertical-align: middle;\n",
       "    }\n",
       "\n",
       "    .dataframe tbody tr th {\n",
       "        vertical-align: top;\n",
       "    }\n",
       "\n",
       "    .dataframe thead th {\n",
       "        text-align: right;\n",
       "    }\n",
       "</style>\n",
       "<table border=\"1\" class=\"dataframe\">\n",
       "  <thead>\n",
       "    <tr style=\"text-align: right;\">\n",
       "      <th></th>\n",
       "      <th>Sleep quality</th>\n",
       "      <th>Time in bed</th>\n",
       "      <th>Activity (steps)</th>\n",
       "      <th>Stressful day Total</th>\n",
       "      <th>Drank coffee Total</th>\n",
       "      <th>Drank tea Total</th>\n",
       "      <th>Ate late Total</th>\n",
       "      <th>Worked out Total</th>\n",
       "      <th>Fell asleep</th>\n",
       "    </tr>\n",
       "  </thead>\n",
       "  <tbody>\n",
       "    <tr>\n",
       "      <th>0</th>\n",
       "      <td>65</td>\n",
       "      <td>452</td>\n",
       "      <td>0</td>\n",
       "      <td>0</td>\n",
       "      <td>0</td>\n",
       "      <td>0</td>\n",
       "      <td>0</td>\n",
       "      <td>0</td>\n",
       "      <td>2231</td>\n",
       "    </tr>\n",
       "    <tr>\n",
       "      <th>1</th>\n",
       "      <td>89</td>\n",
       "      <td>530</td>\n",
       "      <td>0</td>\n",
       "      <td>0</td>\n",
       "      <td>1</td>\n",
       "      <td>1</td>\n",
       "      <td>0</td>\n",
       "      <td>0</td>\n",
       "      <td>2238</td>\n",
       "    </tr>\n",
       "    <tr>\n",
       "      <th>2</th>\n",
       "      <td>100</td>\n",
       "      <td>512</td>\n",
       "      <td>0</td>\n",
       "      <td>0</td>\n",
       "      <td>0</td>\n",
       "      <td>0</td>\n",
       "      <td>0</td>\n",
       "      <td>0</td>\n",
       "      <td>2257</td>\n",
       "    </tr>\n",
       "    <tr>\n",
       "      <th>3</th>\n",
       "      <td>87</td>\n",
       "      <td>442</td>\n",
       "      <td>0</td>\n",
       "      <td>0</td>\n",
       "      <td>0</td>\n",
       "      <td>1</td>\n",
       "      <td>0</td>\n",
       "      <td>0</td>\n",
       "      <td>2132</td>\n",
       "    </tr>\n",
       "    <tr>\n",
       "      <th>4</th>\n",
       "      <td>93</td>\n",
       "      <td>483</td>\n",
       "      <td>0</td>\n",
       "      <td>1</td>\n",
       "      <td>1</td>\n",
       "      <td>1</td>\n",
       "      <td>0</td>\n",
       "      <td>0</td>\n",
       "      <td>13</td>\n",
       "    </tr>\n",
       "  </tbody>\n",
       "</table>\n",
       "</div>"
      ],
      "text/plain": [
       "   Sleep quality  Time in bed  Activity (steps)  Stressful day Total  \\\n",
       "0             65          452                 0                    0   \n",
       "1             89          530                 0                    0   \n",
       "2            100          512                 0                    0   \n",
       "3             87          442                 0                    0   \n",
       "4             93          483                 0                    1   \n",
       "\n",
       "   Drank coffee Total  Drank tea Total  Ate late Total  Worked out Total  \\\n",
       "0                   0                0               0                 0   \n",
       "1                   1                1               0                 0   \n",
       "2                   0                0               0                 0   \n",
       "3                   0                1               0                 0   \n",
       "4                   1                1               0                 0   \n",
       "\n",
       "   Fell asleep  \n",
       "0         2231  \n",
       "1         2238  \n",
       "2         2257  \n",
       "3         2132  \n",
       "4           13  "
      ]
     },
     "execution_count": 635,
     "metadata": {},
     "output_type": "execute_result"
    }
   ],
   "source": [
    "# Import csv to dataframe\n",
    "df = pd.read_csv(Path('./df_transformed.csv'))\n",
    "df.head()"
   ]
  },
  {
   "cell_type": "code",
   "execution_count": 636,
   "id": "f34442f7",
   "metadata": {},
   "outputs": [
    {
     "data": {
      "text/html": [
       "<div>\n",
       "<style scoped>\n",
       "    .dataframe tbody tr th:only-of-type {\n",
       "        vertical-align: middle;\n",
       "    }\n",
       "\n",
       "    .dataframe tbody tr th {\n",
       "        vertical-align: top;\n",
       "    }\n",
       "\n",
       "    .dataframe thead th {\n",
       "        text-align: right;\n",
       "    }\n",
       "</style>\n",
       "<table border=\"1\" class=\"dataframe\">\n",
       "  <thead>\n",
       "    <tr style=\"text-align: right;\">\n",
       "      <th></th>\n",
       "      <th>Sleep quality</th>\n",
       "      <th>Time in bed</th>\n",
       "      <th>Activity (steps)</th>\n",
       "      <th>Fell asleep</th>\n",
       "      <th>Stressful day Total_0</th>\n",
       "      <th>Stressful day Total_1</th>\n",
       "      <th>Drank coffee Total_0</th>\n",
       "      <th>Drank coffee Total_1</th>\n",
       "      <th>Drank tea Total_0</th>\n",
       "      <th>Drank tea Total_1</th>\n",
       "      <th>Ate late Total_0</th>\n",
       "      <th>Ate late Total_1</th>\n",
       "      <th>Worked out Total_0</th>\n",
       "      <th>Worked out Total_1</th>\n",
       "    </tr>\n",
       "  </thead>\n",
       "  <tbody>\n",
       "    <tr>\n",
       "      <th>0</th>\n",
       "      <td>65</td>\n",
       "      <td>452</td>\n",
       "      <td>0</td>\n",
       "      <td>2231</td>\n",
       "      <td>1</td>\n",
       "      <td>0</td>\n",
       "      <td>1</td>\n",
       "      <td>0</td>\n",
       "      <td>1</td>\n",
       "      <td>0</td>\n",
       "      <td>1</td>\n",
       "      <td>0</td>\n",
       "      <td>1</td>\n",
       "      <td>0</td>\n",
       "    </tr>\n",
       "    <tr>\n",
       "      <th>1</th>\n",
       "      <td>89</td>\n",
       "      <td>530</td>\n",
       "      <td>0</td>\n",
       "      <td>2238</td>\n",
       "      <td>1</td>\n",
       "      <td>0</td>\n",
       "      <td>0</td>\n",
       "      <td>1</td>\n",
       "      <td>0</td>\n",
       "      <td>1</td>\n",
       "      <td>1</td>\n",
       "      <td>0</td>\n",
       "      <td>1</td>\n",
       "      <td>0</td>\n",
       "    </tr>\n",
       "    <tr>\n",
       "      <th>2</th>\n",
       "      <td>100</td>\n",
       "      <td>512</td>\n",
       "      <td>0</td>\n",
       "      <td>2257</td>\n",
       "      <td>1</td>\n",
       "      <td>0</td>\n",
       "      <td>1</td>\n",
       "      <td>0</td>\n",
       "      <td>1</td>\n",
       "      <td>0</td>\n",
       "      <td>1</td>\n",
       "      <td>0</td>\n",
       "      <td>1</td>\n",
       "      <td>0</td>\n",
       "    </tr>\n",
       "    <tr>\n",
       "      <th>3</th>\n",
       "      <td>87</td>\n",
       "      <td>442</td>\n",
       "      <td>0</td>\n",
       "      <td>2132</td>\n",
       "      <td>1</td>\n",
       "      <td>0</td>\n",
       "      <td>1</td>\n",
       "      <td>0</td>\n",
       "      <td>0</td>\n",
       "      <td>1</td>\n",
       "      <td>1</td>\n",
       "      <td>0</td>\n",
       "      <td>1</td>\n",
       "      <td>0</td>\n",
       "    </tr>\n",
       "    <tr>\n",
       "      <th>4</th>\n",
       "      <td>93</td>\n",
       "      <td>483</td>\n",
       "      <td>0</td>\n",
       "      <td>13</td>\n",
       "      <td>0</td>\n",
       "      <td>1</td>\n",
       "      <td>0</td>\n",
       "      <td>1</td>\n",
       "      <td>0</td>\n",
       "      <td>1</td>\n",
       "      <td>1</td>\n",
       "      <td>0</td>\n",
       "      <td>1</td>\n",
       "      <td>0</td>\n",
       "    </tr>\n",
       "  </tbody>\n",
       "</table>\n",
       "</div>"
      ],
      "text/plain": [
       "   Sleep quality  Time in bed  Activity (steps)  Fell asleep  \\\n",
       "0             65          452                 0         2231   \n",
       "1             89          530                 0         2238   \n",
       "2            100          512                 0         2257   \n",
       "3             87          442                 0         2132   \n",
       "4             93          483                 0           13   \n",
       "\n",
       "   Stressful day Total_0  Stressful day Total_1  Drank coffee Total_0  \\\n",
       "0                      1                      0                     1   \n",
       "1                      1                      0                     0   \n",
       "2                      1                      0                     1   \n",
       "3                      1                      0                     1   \n",
       "4                      0                      1                     0   \n",
       "\n",
       "   Drank coffee Total_1  Drank tea Total_0  Drank tea Total_1  \\\n",
       "0                     0                  1                  0   \n",
       "1                     1                  0                  1   \n",
       "2                     0                  1                  0   \n",
       "3                     0                  0                  1   \n",
       "4                     1                  0                  1   \n",
       "\n",
       "   Ate late Total_0  Ate late Total_1  Worked out Total_0  Worked out Total_1  \n",
       "0                 1                 0                   1                   0  \n",
       "1                 1                 0                   1                   0  \n",
       "2                 1                 0                   1                   0  \n",
       "3                 1                 0                   1                   0  \n",
       "4                 1                 0                   1                   0  "
      ]
     },
     "execution_count": 636,
     "metadata": {},
     "output_type": "execute_result"
    }
   ],
   "source": [
    "# Use get_dummies to spread out true and false columns over 14 columns\n",
    "df_binary_encoded = pd.get_dummies(df, columns=[\"Stressful day Total\", \"Drank coffee Total\", \"Drank tea Total\", \"Ate late Total\", \"Worked out Total\"])\n",
    "df_binary_encoded.head()\n"
   ]
  },
  {
   "cell_type": "code",
   "execution_count": 637,
   "id": "1183db37",
   "metadata": {},
   "outputs": [
    {
     "data": {
      "text/plain": [
       "(887, 14)"
      ]
     },
     "execution_count": 637,
     "metadata": {},
     "output_type": "execute_result"
    }
   ],
   "source": [
    "# Check the Shape of the dataframe as using get_dummies\n",
    "df_binary_encoded.shape"
   ]
  },
  {
   "cell_type": "code",
   "execution_count": 638,
   "id": "c68a72af",
   "metadata": {},
   "outputs": [],
   "source": [
    "# Set X to all columns but sleep quality and set y to Sleep quality\n",
    "X = df_binary_encoded.drop('Sleep quality', axis=1)\n",
    "\n",
    "y = df_binary_encoded.iloc[:,0].copy()"
   ]
  },
  {
   "cell_type": "code",
   "execution_count": 639,
   "id": "9f8e26cd",
   "metadata": {},
   "outputs": [],
   "source": [
    "# Train test split\n",
    "from sklearn.model_selection import train_test_split\n",
    "X_train, X_test, y_train, y_test = train_test_split(X, y, random_state=1)\n"
   ]
  },
  {
   "cell_type": "code",
   "execution_count": 640,
   "id": "f96ccd89",
   "metadata": {},
   "outputs": [],
   "source": [
    "# from sklearn.preprocessing import StandardScaler\n",
    "# data_scaler = StandardScaler()\n",
    "\n",
    "# df_scaled = data_scaler.fit_transform(X_train)\n",
    "\n",
    "# import numpy as np\n",
    "# print(np.mean(df_scaled[:,0]))\n",
    "# print(np.std(df_scaled[:,0]))"
   ]
  },
  {
   "cell_type": "code",
   "execution_count": 641,
   "id": "df65d921",
   "metadata": {},
   "outputs": [
    {
     "data": {
      "text/html": [
       "<div>\n",
       "<style scoped>\n",
       "    .dataframe tbody tr th:only-of-type {\n",
       "        vertical-align: middle;\n",
       "    }\n",
       "\n",
       "    .dataframe tbody tr th {\n",
       "        vertical-align: top;\n",
       "    }\n",
       "\n",
       "    .dataframe thead th {\n",
       "        text-align: right;\n",
       "    }\n",
       "</style>\n",
       "<table border=\"1\" class=\"dataframe\">\n",
       "  <thead>\n",
       "    <tr style=\"text-align: right;\">\n",
       "      <th></th>\n",
       "      <th>Time in bed</th>\n",
       "      <th>Activity (steps)</th>\n",
       "      <th>Fell asleep</th>\n",
       "      <th>Stressful day Total_0</th>\n",
       "      <th>Stressful day Total_1</th>\n",
       "      <th>Drank coffee Total_0</th>\n",
       "      <th>Drank coffee Total_1</th>\n",
       "      <th>Drank tea Total_0</th>\n",
       "      <th>Drank tea Total_1</th>\n",
       "      <th>Ate late Total_0</th>\n",
       "      <th>Ate late Total_1</th>\n",
       "      <th>Worked out Total_0</th>\n",
       "      <th>Worked out Total_1</th>\n",
       "    </tr>\n",
       "  </thead>\n",
       "  <tbody>\n",
       "    <tr>\n",
       "      <th>0</th>\n",
       "      <td>452</td>\n",
       "      <td>0</td>\n",
       "      <td>2231</td>\n",
       "      <td>1</td>\n",
       "      <td>0</td>\n",
       "      <td>1</td>\n",
       "      <td>0</td>\n",
       "      <td>1</td>\n",
       "      <td>0</td>\n",
       "      <td>1</td>\n",
       "      <td>0</td>\n",
       "      <td>1</td>\n",
       "      <td>0</td>\n",
       "    </tr>\n",
       "    <tr>\n",
       "      <th>1</th>\n",
       "      <td>530</td>\n",
       "      <td>0</td>\n",
       "      <td>2238</td>\n",
       "      <td>1</td>\n",
       "      <td>0</td>\n",
       "      <td>0</td>\n",
       "      <td>1</td>\n",
       "      <td>0</td>\n",
       "      <td>1</td>\n",
       "      <td>1</td>\n",
       "      <td>0</td>\n",
       "      <td>1</td>\n",
       "      <td>0</td>\n",
       "    </tr>\n",
       "    <tr>\n",
       "      <th>2</th>\n",
       "      <td>512</td>\n",
       "      <td>0</td>\n",
       "      <td>2257</td>\n",
       "      <td>1</td>\n",
       "      <td>0</td>\n",
       "      <td>1</td>\n",
       "      <td>0</td>\n",
       "      <td>1</td>\n",
       "      <td>0</td>\n",
       "      <td>1</td>\n",
       "      <td>0</td>\n",
       "      <td>1</td>\n",
       "      <td>0</td>\n",
       "    </tr>\n",
       "    <tr>\n",
       "      <th>3</th>\n",
       "      <td>442</td>\n",
       "      <td>0</td>\n",
       "      <td>2132</td>\n",
       "      <td>1</td>\n",
       "      <td>0</td>\n",
       "      <td>1</td>\n",
       "      <td>0</td>\n",
       "      <td>0</td>\n",
       "      <td>1</td>\n",
       "      <td>1</td>\n",
       "      <td>0</td>\n",
       "      <td>1</td>\n",
       "      <td>0</td>\n",
       "    </tr>\n",
       "    <tr>\n",
       "      <th>4</th>\n",
       "      <td>483</td>\n",
       "      <td>0</td>\n",
       "      <td>13</td>\n",
       "      <td>0</td>\n",
       "      <td>1</td>\n",
       "      <td>0</td>\n",
       "      <td>1</td>\n",
       "      <td>0</td>\n",
       "      <td>1</td>\n",
       "      <td>1</td>\n",
       "      <td>0</td>\n",
       "      <td>1</td>\n",
       "      <td>0</td>\n",
       "    </tr>\n",
       "  </tbody>\n",
       "</table>\n",
       "</div>"
      ],
      "text/plain": [
       "   Time in bed  Activity (steps)  Fell asleep  Stressful day Total_0  \\\n",
       "0          452                 0         2231                      1   \n",
       "1          530                 0         2238                      1   \n",
       "2          512                 0         2257                      1   \n",
       "3          442                 0         2132                      1   \n",
       "4          483                 0           13                      0   \n",
       "\n",
       "   Stressful day Total_1  Drank coffee Total_0  Drank coffee Total_1  \\\n",
       "0                      0                     1                     0   \n",
       "1                      0                     0                     1   \n",
       "2                      0                     1                     0   \n",
       "3                      0                     1                     0   \n",
       "4                      1                     0                     1   \n",
       "\n",
       "   Drank tea Total_0  Drank tea Total_1  Ate late Total_0  Ate late Total_1  \\\n",
       "0                  1                  0                 1                 0   \n",
       "1                  0                  1                 1                 0   \n",
       "2                  1                  0                 1                 0   \n",
       "3                  0                  1                 1                 0   \n",
       "4                  0                  1                 1                 0   \n",
       "\n",
       "   Worked out Total_0  Worked out Total_1  \n",
       "0                   1                   0  \n",
       "1                   1                   0  \n",
       "2                   1                   0  \n",
       "3                   1                   0  \n",
       "4                   1                   0  "
      ]
     },
     "execution_count": 641,
     "metadata": {},
     "output_type": "execute_result"
    }
   ],
   "source": [
    "# Verify X is what we expect it to be\n",
    "X[:5]"
   ]
  },
  {
   "cell_type": "code",
   "execution_count": 642,
   "id": "46ad0898",
   "metadata": {},
   "outputs": [
    {
     "data": {
      "text/html": [
       "<div>\n",
       "<style scoped>\n",
       "    .dataframe tbody tr th:only-of-type {\n",
       "        vertical-align: middle;\n",
       "    }\n",
       "\n",
       "    .dataframe tbody tr th {\n",
       "        vertical-align: top;\n",
       "    }\n",
       "\n",
       "    .dataframe thead th {\n",
       "        text-align: right;\n",
       "    }\n",
       "</style>\n",
       "<table border=\"1\" class=\"dataframe\">\n",
       "  <thead>\n",
       "    <tr style=\"text-align: right;\">\n",
       "      <th></th>\n",
       "      <th>Time in bed</th>\n",
       "      <th>Activity (steps)</th>\n",
       "      <th>Fell asleep</th>\n",
       "      <th>Stressful day Total_0</th>\n",
       "      <th>Stressful day Total_1</th>\n",
       "      <th>Drank coffee Total_0</th>\n",
       "      <th>Drank coffee Total_1</th>\n",
       "      <th>Drank tea Total_0</th>\n",
       "      <th>Drank tea Total_1</th>\n",
       "      <th>Ate late Total_0</th>\n",
       "      <th>Ate late Total_1</th>\n",
       "      <th>Worked out Total_0</th>\n",
       "      <th>Worked out Total_1</th>\n",
       "    </tr>\n",
       "  </thead>\n",
       "  <tbody>\n",
       "    <tr>\n",
       "      <th>0</th>\n",
       "      <td>452</td>\n",
       "      <td>0</td>\n",
       "      <td>2231</td>\n",
       "      <td>1</td>\n",
       "      <td>0</td>\n",
       "      <td>1</td>\n",
       "      <td>0</td>\n",
       "      <td>1</td>\n",
       "      <td>0</td>\n",
       "      <td>1</td>\n",
       "      <td>0</td>\n",
       "      <td>1</td>\n",
       "      <td>0</td>\n",
       "    </tr>\n",
       "    <tr>\n",
       "      <th>1</th>\n",
       "      <td>530</td>\n",
       "      <td>0</td>\n",
       "      <td>2238</td>\n",
       "      <td>1</td>\n",
       "      <td>0</td>\n",
       "      <td>0</td>\n",
       "      <td>1</td>\n",
       "      <td>0</td>\n",
       "      <td>1</td>\n",
       "      <td>1</td>\n",
       "      <td>0</td>\n",
       "      <td>1</td>\n",
       "      <td>0</td>\n",
       "    </tr>\n",
       "    <tr>\n",
       "      <th>2</th>\n",
       "      <td>512</td>\n",
       "      <td>0</td>\n",
       "      <td>2257</td>\n",
       "      <td>1</td>\n",
       "      <td>0</td>\n",
       "      <td>1</td>\n",
       "      <td>0</td>\n",
       "      <td>1</td>\n",
       "      <td>0</td>\n",
       "      <td>1</td>\n",
       "      <td>0</td>\n",
       "      <td>1</td>\n",
       "      <td>0</td>\n",
       "    </tr>\n",
       "    <tr>\n",
       "      <th>3</th>\n",
       "      <td>442</td>\n",
       "      <td>0</td>\n",
       "      <td>2132</td>\n",
       "      <td>1</td>\n",
       "      <td>0</td>\n",
       "      <td>1</td>\n",
       "      <td>0</td>\n",
       "      <td>0</td>\n",
       "      <td>1</td>\n",
       "      <td>1</td>\n",
       "      <td>0</td>\n",
       "      <td>1</td>\n",
       "      <td>0</td>\n",
       "    </tr>\n",
       "    <tr>\n",
       "      <th>4</th>\n",
       "      <td>483</td>\n",
       "      <td>0</td>\n",
       "      <td>13</td>\n",
       "      <td>0</td>\n",
       "      <td>1</td>\n",
       "      <td>0</td>\n",
       "      <td>1</td>\n",
       "      <td>0</td>\n",
       "      <td>1</td>\n",
       "      <td>1</td>\n",
       "      <td>0</td>\n",
       "      <td>1</td>\n",
       "      <td>0</td>\n",
       "    </tr>\n",
       "  </tbody>\n",
       "</table>\n",
       "</div>"
      ],
      "text/plain": [
       "   Time in bed  Activity (steps)  Fell asleep  Stressful day Total_0  \\\n",
       "0          452                 0         2231                      1   \n",
       "1          530                 0         2238                      1   \n",
       "2          512                 0         2257                      1   \n",
       "3          442                 0         2132                      1   \n",
       "4          483                 0           13                      0   \n",
       "\n",
       "   Stressful day Total_1  Drank coffee Total_0  Drank coffee Total_1  \\\n",
       "0                      0                     1                     0   \n",
       "1                      0                     0                     1   \n",
       "2                      0                     1                     0   \n",
       "3                      0                     1                     0   \n",
       "4                      1                     0                     1   \n",
       "\n",
       "   Drank tea Total_0  Drank tea Total_1  Ate late Total_0  Ate late Total_1  \\\n",
       "0                  1                  0                 1                 0   \n",
       "1                  0                  1                 1                 0   \n",
       "2                  1                  0                 1                 0   \n",
       "3                  0                  1                 1                 0   \n",
       "4                  0                  1                 1                 0   \n",
       "\n",
       "   Worked out Total_0  Worked out Total_1  \n",
       "0                   1                   0  \n",
       "1                   1                   0  \n",
       "2                   1                   0  \n",
       "3                   1                   0  \n",
       "4                   1                   0  "
      ]
     },
     "execution_count": 642,
     "metadata": {},
     "output_type": "execute_result"
    }
   ],
   "source": [
    "# Rename X back to df\n",
    "df = pd.DataFrame(X)\n",
    "df.head()"
   ]
  },
  {
   "cell_type": "code",
   "execution_count": 643,
   "id": "0d55a62b",
   "metadata": {},
   "outputs": [
    {
     "data": {
      "text/plain": [
       "0     65\n",
       "1     89\n",
       "2    100\n",
       "3     87\n",
       "4     93\n",
       "Name: Sleep quality, dtype: int64"
      ]
     },
     "execution_count": 643,
     "metadata": {},
     "output_type": "execute_result"
    }
   ],
   "source": [
    "# Verify y matches the \"Sleep_Quality\" column dropped from X \n",
    "y.head()"
   ]
  },
  {
   "cell_type": "code",
   "execution_count": 644,
   "id": "361daf01",
   "metadata": {},
   "outputs": [
    {
     "data": {
      "text/plain": [
       "(887,)"
      ]
     },
     "execution_count": 644,
     "metadata": {},
     "output_type": "execute_result"
    }
   ],
   "source": [
    "# Notice the shape of y\n",
    "y.shape"
   ]
  },
  {
   "cell_type": "code",
   "execution_count": 645,
   "id": "9c385587",
   "metadata": {},
   "outputs": [
    {
     "data": {
      "text/plain": [
       "LinearRegression()"
      ]
     },
     "execution_count": 645,
     "metadata": {},
     "output_type": "execute_result"
    }
   ],
   "source": [
    "# Instantiate the LinearRegression Model\n",
    "linear = LinearRegression()\n",
    "linear"
   ]
  },
  {
   "cell_type": "code",
   "execution_count": 646,
   "id": "9c28244d",
   "metadata": {},
   "outputs": [
    {
     "data": {
      "text/plain": [
       "LinearRegression()"
      ]
     },
     "execution_count": 646,
     "metadata": {},
     "output_type": "execute_result"
    }
   ],
   "source": [
    "# Train the Model\n",
    "linear.fit(X_train, y_train)"
   ]
  },
  {
   "cell_type": "code",
   "execution_count": 647,
   "id": "bb8d4f43",
   "metadata": {},
   "outputs": [
    {
     "data": {
      "text/html": [
       "<div>\n",
       "<style scoped>\n",
       "    .dataframe tbody tr th:only-of-type {\n",
       "        vertical-align: middle;\n",
       "    }\n",
       "\n",
       "    .dataframe tbody tr th {\n",
       "        vertical-align: top;\n",
       "    }\n",
       "\n",
       "    .dataframe thead th {\n",
       "        text-align: right;\n",
       "    }\n",
       "</style>\n",
       "<table border=\"1\" class=\"dataframe\">\n",
       "  <thead>\n",
       "    <tr style=\"text-align: right;\">\n",
       "      <th></th>\n",
       "      <th>Prediction</th>\n",
       "      <th>Actual</th>\n",
       "    </tr>\n",
       "  </thead>\n",
       "  <tbody>\n",
       "    <tr>\n",
       "      <th>522</th>\n",
       "      <td>80.772393</td>\n",
       "      <td>79</td>\n",
       "    </tr>\n",
       "    <tr>\n",
       "      <th>314</th>\n",
       "      <td>79.054583</td>\n",
       "      <td>86</td>\n",
       "    </tr>\n",
       "    <tr>\n",
       "      <th>768</th>\n",
       "      <td>79.260579</td>\n",
       "      <td>73</td>\n",
       "    </tr>\n",
       "    <tr>\n",
       "      <th>320</th>\n",
       "      <td>71.616312</td>\n",
       "      <td>72</td>\n",
       "    </tr>\n",
       "    <tr>\n",
       "      <th>809</th>\n",
       "      <td>70.284922</td>\n",
       "      <td>74</td>\n",
       "    </tr>\n",
       "    <tr>\n",
       "      <th>...</th>\n",
       "      <td>...</td>\n",
       "      <td>...</td>\n",
       "    </tr>\n",
       "    <tr>\n",
       "      <th>35</th>\n",
       "      <td>76.282396</td>\n",
       "      <td>64</td>\n",
       "    </tr>\n",
       "    <tr>\n",
       "      <th>46</th>\n",
       "      <td>78.570687</td>\n",
       "      <td>80</td>\n",
       "    </tr>\n",
       "    <tr>\n",
       "      <th>255</th>\n",
       "      <td>77.138954</td>\n",
       "      <td>78</td>\n",
       "    </tr>\n",
       "    <tr>\n",
       "      <th>670</th>\n",
       "      <td>81.788098</td>\n",
       "      <td>96</td>\n",
       "    </tr>\n",
       "    <tr>\n",
       "      <th>744</th>\n",
       "      <td>82.677151</td>\n",
       "      <td>82</td>\n",
       "    </tr>\n",
       "  </tbody>\n",
       "</table>\n",
       "<p>222 rows × 2 columns</p>\n",
       "</div>"
      ],
      "text/plain": [
       "     Prediction  Actual\n",
       "522   80.772393      79\n",
       "314   79.054583      86\n",
       "768   79.260579      73\n",
       "320   71.616312      72\n",
       "809   70.284922      74\n",
       "..          ...     ...\n",
       "35    76.282396      64\n",
       "46    78.570687      80\n",
       "255   77.138954      78\n",
       "670   81.788098      96\n",
       "744   82.677151      82\n",
       "\n",
       "[222 rows x 2 columns]"
      ]
     },
     "execution_count": 647,
     "metadata": {},
     "output_type": "execute_result"
    }
   ],
   "source": [
    "# Predict outcomes for test data set\n",
    "y_pred = linear.predict(X_test)\n",
    "pd.DataFrame({\"Prediction\": y_pred, \"Actual\": y_test})"
   ]
  },
  {
   "cell_type": "code",
   "execution_count": 648,
   "id": "4d8a9f66",
   "metadata": {},
   "outputs": [
    {
     "data": {
      "text/plain": [
       "0.603248893596652"
      ]
     },
     "execution_count": 648,
     "metadata": {},
     "output_type": "execute_result"
    }
   ],
   "source": [
    "# Score the Model\n",
    "linear.score(X_train, y_train)"
   ]
  },
  {
   "cell_type": "code",
   "execution_count": 649,
   "id": "3013b51f",
   "metadata": {},
   "outputs": [
    {
     "data": {
      "text/plain": [
       "Lasso()"
      ]
     },
     "execution_count": 649,
     "metadata": {},
     "output_type": "execute_result"
    }
   ],
   "source": [
    "# Instantiate the Lasso Model\n",
    "classo = Lasso()\n",
    "classo"
   ]
  },
  {
   "cell_type": "code",
   "execution_count": 650,
   "id": "873a7661",
   "metadata": {},
   "outputs": [
    {
     "data": {
      "text/plain": [
       "Lasso()"
      ]
     },
     "execution_count": 650,
     "metadata": {},
     "output_type": "execute_result"
    }
   ],
   "source": [
    "# Train the data\n",
    "classo.fit(X_train, y_train)"
   ]
  },
  {
   "cell_type": "code",
   "execution_count": 651,
   "id": "e2558745",
   "metadata": {},
   "outputs": [
    {
     "data": {
      "text/html": [
       "<div>\n",
       "<style scoped>\n",
       "    .dataframe tbody tr th:only-of-type {\n",
       "        vertical-align: middle;\n",
       "    }\n",
       "\n",
       "    .dataframe tbody tr th {\n",
       "        vertical-align: top;\n",
       "    }\n",
       "\n",
       "    .dataframe thead th {\n",
       "        text-align: right;\n",
       "    }\n",
       "</style>\n",
       "<table border=\"1\" class=\"dataframe\">\n",
       "  <thead>\n",
       "    <tr style=\"text-align: right;\">\n",
       "      <th></th>\n",
       "      <th>Prediction</th>\n",
       "      <th>Actual</th>\n",
       "    </tr>\n",
       "  </thead>\n",
       "  <tbody>\n",
       "    <tr>\n",
       "      <th>522</th>\n",
       "      <td>79.229796</td>\n",
       "      <td>79</td>\n",
       "    </tr>\n",
       "    <tr>\n",
       "      <th>314</th>\n",
       "      <td>78.748267</td>\n",
       "      <td>86</td>\n",
       "    </tr>\n",
       "    <tr>\n",
       "      <th>768</th>\n",
       "      <td>77.738577</td>\n",
       "      <td>73</td>\n",
       "    </tr>\n",
       "    <tr>\n",
       "      <th>320</th>\n",
       "      <td>69.543845</td>\n",
       "      <td>72</td>\n",
       "    </tr>\n",
       "    <tr>\n",
       "      <th>809</th>\n",
       "      <td>69.110962</td>\n",
       "      <td>74</td>\n",
       "    </tr>\n",
       "    <tr>\n",
       "      <th>...</th>\n",
       "      <td>...</td>\n",
       "      <td>...</td>\n",
       "    </tr>\n",
       "    <tr>\n",
       "      <th>35</th>\n",
       "      <td>75.095852</td>\n",
       "      <td>64</td>\n",
       "    </tr>\n",
       "    <tr>\n",
       "      <th>46</th>\n",
       "      <td>77.403848</td>\n",
       "      <td>80</td>\n",
       "    </tr>\n",
       "    <tr>\n",
       "      <th>255</th>\n",
       "      <td>75.095852</td>\n",
       "      <td>78</td>\n",
       "    </tr>\n",
       "    <tr>\n",
       "      <th>670</th>\n",
       "      <td>80.663491</td>\n",
       "      <td>96</td>\n",
       "    </tr>\n",
       "    <tr>\n",
       "      <th>744</th>\n",
       "      <td>84.031245</td>\n",
       "      <td>82</td>\n",
       "    </tr>\n",
       "  </tbody>\n",
       "</table>\n",
       "<p>222 rows × 2 columns</p>\n",
       "</div>"
      ],
      "text/plain": [
       "     Prediction  Actual\n",
       "522   79.229796      79\n",
       "314   78.748267      86\n",
       "768   77.738577      73\n",
       "320   69.543845      72\n",
       "809   69.110962      74\n",
       "..          ...     ...\n",
       "35    75.095852      64\n",
       "46    77.403848      80\n",
       "255   75.095852      78\n",
       "670   80.663491      96\n",
       "744   84.031245      82\n",
       "\n",
       "[222 rows x 2 columns]"
      ]
     },
     "execution_count": 651,
     "metadata": {},
     "output_type": "execute_result"
    }
   ],
   "source": [
    "# Predict outcomes for test data set\n",
    "y_pred = classo.predict(X_test)\n",
    "pd.DataFrame({\"Prediction\": y_pred, \"Actual\": y_test})"
   ]
  },
  {
   "cell_type": "code",
   "execution_count": 652,
   "id": "0a6a2b48",
   "metadata": {},
   "outputs": [
    {
     "data": {
      "text/plain": [
       "0.5945859973126337"
      ]
     },
     "execution_count": 652,
     "metadata": {},
     "output_type": "execute_result"
    }
   ],
   "source": [
    "# Score the Model\n",
    "classo.score(X_train, y_train)"
   ]
  },
  {
   "cell_type": "code",
   "execution_count": 653,
   "id": "f1b513f4",
   "metadata": {},
   "outputs": [],
   "source": [
    "# ....................."
   ]
  },
  {
   "cell_type": "code",
   "execution_count": 654,
   "id": "9cab0dd0",
   "metadata": {},
   "outputs": [
    {
     "data": {
      "text/plain": [
       "Ridge()"
      ]
     },
     "execution_count": 654,
     "metadata": {},
     "output_type": "execute_result"
    }
   ],
   "source": [
    "# Instantiate the Ridge Model\n",
    "ridge = Ridge()\n",
    "ridge"
   ]
  },
  {
   "cell_type": "code",
   "execution_count": 655,
   "id": "bea7b272",
   "metadata": {},
   "outputs": [
    {
     "data": {
      "text/plain": [
       "Ridge()"
      ]
     },
     "execution_count": 655,
     "metadata": {},
     "output_type": "execute_result"
    }
   ],
   "source": [
    "# Train the Model\n",
    "ridge.fit(X_train, y_train)"
   ]
  },
  {
   "cell_type": "code",
   "execution_count": 656,
   "id": "35d08ed6",
   "metadata": {},
   "outputs": [
    {
     "data": {
      "text/html": [
       "<div>\n",
       "<style scoped>\n",
       "    .dataframe tbody tr th:only-of-type {\n",
       "        vertical-align: middle;\n",
       "    }\n",
       "\n",
       "    .dataframe tbody tr th {\n",
       "        vertical-align: top;\n",
       "    }\n",
       "\n",
       "    .dataframe thead th {\n",
       "        text-align: right;\n",
       "    }\n",
       "</style>\n",
       "<table border=\"1\" class=\"dataframe\">\n",
       "  <thead>\n",
       "    <tr style=\"text-align: right;\">\n",
       "      <th></th>\n",
       "      <th>Prediction</th>\n",
       "      <th>Actual</th>\n",
       "    </tr>\n",
       "  </thead>\n",
       "  <tbody>\n",
       "    <tr>\n",
       "      <th>522</th>\n",
       "      <td>80.763934</td>\n",
       "      <td>79</td>\n",
       "    </tr>\n",
       "    <tr>\n",
       "      <th>314</th>\n",
       "      <td>79.058355</td>\n",
       "      <td>86</td>\n",
       "    </tr>\n",
       "    <tr>\n",
       "      <th>768</th>\n",
       "      <td>79.259823</td>\n",
       "      <td>73</td>\n",
       "    </tr>\n",
       "    <tr>\n",
       "      <th>320</th>\n",
       "      <td>71.608941</td>\n",
       "      <td>72</td>\n",
       "    </tr>\n",
       "    <tr>\n",
       "      <th>809</th>\n",
       "      <td>70.287187</td>\n",
       "      <td>74</td>\n",
       "    </tr>\n",
       "    <tr>\n",
       "      <th>...</th>\n",
       "      <td>...</td>\n",
       "      <td>...</td>\n",
       "    </tr>\n",
       "    <tr>\n",
       "      <th>35</th>\n",
       "      <td>76.276822</td>\n",
       "      <td>64</td>\n",
       "    </tr>\n",
       "    <tr>\n",
       "      <th>46</th>\n",
       "      <td>78.572625</td>\n",
       "      <td>80</td>\n",
       "    </tr>\n",
       "    <tr>\n",
       "      <th>255</th>\n",
       "      <td>77.131503</td>\n",
       "      <td>78</td>\n",
       "    </tr>\n",
       "    <tr>\n",
       "      <th>670</th>\n",
       "      <td>81.782649</td>\n",
       "      <td>96</td>\n",
       "    </tr>\n",
       "    <tr>\n",
       "      <th>744</th>\n",
       "      <td>82.679206</td>\n",
       "      <td>82</td>\n",
       "    </tr>\n",
       "  </tbody>\n",
       "</table>\n",
       "<p>222 rows × 2 columns</p>\n",
       "</div>"
      ],
      "text/plain": [
       "     Prediction  Actual\n",
       "522   80.763934      79\n",
       "314   79.058355      86\n",
       "768   79.259823      73\n",
       "320   71.608941      72\n",
       "809   70.287187      74\n",
       "..          ...     ...\n",
       "35    76.276822      64\n",
       "46    78.572625      80\n",
       "255   77.131503      78\n",
       "670   81.782649      96\n",
       "744   82.679206      82\n",
       "\n",
       "[222 rows x 2 columns]"
      ]
     },
     "execution_count": 656,
     "metadata": {},
     "output_type": "execute_result"
    }
   ],
   "source": [
    "# Predict outcomes for test data set\n",
    "y_pred = ridge.predict(X_test)\n",
    "pd.DataFrame({\"Prediction\": y_pred, \"Actual\": y_test})"
   ]
  },
  {
   "cell_type": "code",
   "execution_count": 657,
   "id": "ac48dbd0",
   "metadata": {},
   "outputs": [
    {
     "data": {
      "text/plain": [
       "0.6032485121634987"
      ]
     },
     "execution_count": 657,
     "metadata": {},
     "output_type": "execute_result"
    }
   ],
   "source": [
    "# Score the model\n",
    "ridge.score(X_train, y_train)"
   ]
  },
  {
   "cell_type": "code",
   "execution_count": 658,
   "id": "542c06ac",
   "metadata": {},
   "outputs": [],
   "source": [
    "# ................"
   ]
  },
  {
   "cell_type": "code",
   "execution_count": 659,
   "id": "6c4505d0",
   "metadata": {},
   "outputs": [],
   "source": [
    "# Instantiate the DecisionTreeRegressorModel\n",
    "decision = DecisionTreeRegressor()"
   ]
  },
  {
   "cell_type": "code",
   "execution_count": 660,
   "id": "ec8b025a",
   "metadata": {},
   "outputs": [
    {
     "data": {
      "text/plain": [
       "DecisionTreeRegressor()"
      ]
     },
     "execution_count": 660,
     "metadata": {},
     "output_type": "execute_result"
    }
   ],
   "source": [
    "# Train the Model\n",
    "decision.fit(X_train, y_train)"
   ]
  },
  {
   "cell_type": "code",
   "execution_count": 661,
   "id": "dc5e56e5",
   "metadata": {},
   "outputs": [
    {
     "data": {
      "text/html": [
       "<div>\n",
       "<style scoped>\n",
       "    .dataframe tbody tr th:only-of-type {\n",
       "        vertical-align: middle;\n",
       "    }\n",
       "\n",
       "    .dataframe tbody tr th {\n",
       "        vertical-align: top;\n",
       "    }\n",
       "\n",
       "    .dataframe thead th {\n",
       "        text-align: right;\n",
       "    }\n",
       "</style>\n",
       "<table border=\"1\" class=\"dataframe\">\n",
       "  <thead>\n",
       "    <tr style=\"text-align: right;\">\n",
       "      <th></th>\n",
       "      <th>Prediction</th>\n",
       "      <th>Actual</th>\n",
       "    </tr>\n",
       "  </thead>\n",
       "  <tbody>\n",
       "    <tr>\n",
       "      <th>522</th>\n",
       "      <td>70.0</td>\n",
       "      <td>79</td>\n",
       "    </tr>\n",
       "    <tr>\n",
       "      <th>314</th>\n",
       "      <td>93.0</td>\n",
       "      <td>86</td>\n",
       "    </tr>\n",
       "    <tr>\n",
       "      <th>768</th>\n",
       "      <td>64.0</td>\n",
       "      <td>73</td>\n",
       "    </tr>\n",
       "    <tr>\n",
       "      <th>320</th>\n",
       "      <td>82.0</td>\n",
       "      <td>72</td>\n",
       "    </tr>\n",
       "    <tr>\n",
       "      <th>809</th>\n",
       "      <td>73.0</td>\n",
       "      <td>74</td>\n",
       "    </tr>\n",
       "    <tr>\n",
       "      <th>...</th>\n",
       "      <td>...</td>\n",
       "      <td>...</td>\n",
       "    </tr>\n",
       "    <tr>\n",
       "      <th>35</th>\n",
       "      <td>79.0</td>\n",
       "      <td>64</td>\n",
       "    </tr>\n",
       "    <tr>\n",
       "      <th>46</th>\n",
       "      <td>77.0</td>\n",
       "      <td>80</td>\n",
       "    </tr>\n",
       "    <tr>\n",
       "      <th>255</th>\n",
       "      <td>79.0</td>\n",
       "      <td>78</td>\n",
       "    </tr>\n",
       "    <tr>\n",
       "      <th>670</th>\n",
       "      <td>64.0</td>\n",
       "      <td>96</td>\n",
       "    </tr>\n",
       "    <tr>\n",
       "      <th>744</th>\n",
       "      <td>79.0</td>\n",
       "      <td>82</td>\n",
       "    </tr>\n",
       "  </tbody>\n",
       "</table>\n",
       "<p>222 rows × 2 columns</p>\n",
       "</div>"
      ],
      "text/plain": [
       "     Prediction  Actual\n",
       "522        70.0      79\n",
       "314        93.0      86\n",
       "768        64.0      73\n",
       "320        82.0      72\n",
       "809        73.0      74\n",
       "..          ...     ...\n",
       "35         79.0      64\n",
       "46         77.0      80\n",
       "255        79.0      78\n",
       "670        64.0      96\n",
       "744        79.0      82\n",
       "\n",
       "[222 rows x 2 columns]"
      ]
     },
     "execution_count": 661,
     "metadata": {},
     "output_type": "execute_result"
    }
   ],
   "source": [
    "# Predict outcomes for test data set\n",
    "y_pred = decision.predict(X_test)\n",
    "pd.DataFrame({\"Prediction\": y_pred, \"Actual\": y_test})"
   ]
  },
  {
   "cell_type": "code",
   "execution_count": 662,
   "id": "51f80fdd",
   "metadata": {
    "scrolled": true
   },
   "outputs": [
    {
     "data": {
      "text/plain": [
       "1.0"
      ]
     },
     "execution_count": 662,
     "metadata": {},
     "output_type": "execute_result"
    }
   ],
   "source": [
    "# Score the Model\n",
    "decision.score(X_train, y_train)"
   ]
  },
  {
   "cell_type": "code",
   "execution_count": 663,
   "id": "8a181d69",
   "metadata": {},
   "outputs": [],
   "source": [
    "#................"
   ]
  },
  {
   "cell_type": "code",
   "execution_count": 667,
   "id": "23ef2b42",
   "metadata": {},
   "outputs": [],
   "source": [
    "# Instantiate Multi_Variable_Linear_Regression\n",
    "model = linear_model.LinearRegression()"
   ]
  },
  {
   "cell_type": "code",
   "execution_count": 668,
   "id": "75bfffbe",
   "metadata": {},
   "outputs": [
    {
     "data": {
      "text/plain": [
       "LinearRegression()"
      ]
     },
     "execution_count": 668,
     "metadata": {},
     "output_type": "execute_result"
    }
   ],
   "source": [
    "# Train the Model\n",
    "model.fit(X_train, y_train)"
   ]
  },
  {
   "cell_type": "code",
   "execution_count": 669,
   "id": "127532d4",
   "metadata": {},
   "outputs": [
    {
     "name": "stdout",
     "output_type": "stream",
     "text": [
      "(222,)\n"
     ]
    }
   ],
   "source": [
    "# Predict outcomes for test data set\n",
    "y_pred = model.predict(X_test)\n",
    "print(y_pred.shape)"
   ]
  },
  {
   "cell_type": "code",
   "execution_count": 670,
   "id": "1ec15fd5",
   "metadata": {},
   "outputs": [
    {
     "name": "stdout",
     "output_type": "stream",
     "text": [
      "Intercept: \n",
      " 16.321376454753022\n",
      "Coefficients: \n",
      " [ 0.00000000e+00  1.42124026e-01 -8.30921821e-04 -1.46657665e-03\n",
      " -6.13959299e-01  6.13959299e-01  3.35180366e-01 -3.35180366e-01\n",
      " -1.53005626e+00  1.53005626e+00 -7.68280325e-01  7.68280325e-01\n",
      "  9.28714717e-04 -9.28714717e-04]\n",
      "                            OLS Regression Results                            \n",
      "==============================================================================\n",
      "Dep. Variable:          Sleep quality   R-squared:                       0.553\n",
      "Model:                            OLS   Adj. R-squared:                  0.549\n",
      "Method:                 Least Squares   F-statistic:                     135.6\n",
      "Date:                Tue, 04 Jan 2022   Prob (F-statistic):          9.38e-148\n",
      "Time:                        23:21:34   Log-Likelihood:                -3328.5\n",
      "No. Observations:                 887   AIC:                             6675.\n",
      "Df Residuals:                     878   BIC:                             6718.\n",
      "Df Model:                           8                                         \n",
      "Covariance Type:            nonrobust                                         \n",
      "=========================================================================================\n",
      "                            coef    std err          t      P>|t|      [0.025      0.975]\n",
      "-----------------------------------------------------------------------------------------\n",
      "const                     4.6633      0.702      6.645      0.000       3.286       6.041\n",
      "Time in bed               0.1421      0.005     29.516      0.000       0.133       0.152\n",
      "Activity (steps)         -0.0008      0.000     -7.967      0.000      -0.001      -0.001\n",
      "Fell asleep              -0.0015      0.001     -2.495      0.013      -0.003      -0.000\n",
      "Stressful day Total_0     1.7177      0.706      2.433      0.015       0.332       3.103\n",
      "Stressful day Total_1     2.9456      0.878      3.354      0.001       1.222       4.669\n",
      "Drank coffee Total_0      2.6668      0.567      4.707      0.000       1.555       3.779\n",
      "Drank coffee Total_1      1.9964      0.511      3.910      0.000       0.994       2.998\n",
      "Drank tea Total_0         0.8016      0.502      1.598      0.110      -0.183       1.786\n",
      "Drank tea Total_1         3.8617      0.524      7.375      0.000       2.834       4.889\n",
      "Ate late Total_0          1.5633      1.048      1.491      0.136      -0.494       3.621\n",
      "Ate late Total_1          3.0999      1.351      2.294      0.022       0.448       5.752\n",
      "Worked out Total_0        2.3326      0.524      4.450      0.000       1.304       3.361\n",
      "Worked out Total_1        2.3307      0.530      4.396      0.000       1.290       3.371\n",
      "==============================================================================\n",
      "Omnibus:                      137.846   Durbin-Watson:                   1.574\n",
      "Prob(Omnibus):                  0.000   Jarque-Bera (JB):              244.470\n",
      "Skew:                          -0.957   Prob(JB):                     8.20e-54\n",
      "Kurtosis:                       4.717   Cond. No.                     3.30e+20\n",
      "==============================================================================\n",
      "\n",
      "Notes:\n",
      "[1] Standard Errors assume that the covariance matrix of the errors is correctly specified.\n",
      "[2] The smallest eigenvalue is 1.77e-31. This might indicate that there are\n",
      "strong multicollinearity problems or that the design matrix is singular.\n"
     ]
    },
    {
     "name": "stderr",
     "output_type": "stream",
     "text": [
      "/Users/danielsquires/opt/anaconda3/envs/mlenv/lib/python3.7/site-packages/statsmodels/tsa/tsatools.py:142: FutureWarning: In a future version of pandas all arguments of concat except for the argument 'objs' will be keyword-only\n",
      "  x = pd.concat(x[::order], 1)\n"
     ]
    }
   ],
   "source": [
    "# with statsmodels\n",
    "X = sm.add_constant(X) # adding a constant\n",
    " \n",
    "model = sm.OLS(y, X).fit()\n",
    "predictions = model.predict(X) \n",
    "\n",
    "# with sklearn\n",
    "regr = linear_model.LinearRegression()\n",
    "regr.fit(X, y)\n",
    "\n",
    "print('Intercept: \\n', regr.intercept_)\n",
    "print('Coefficients: \\n', regr.coef_)\n",
    "\n",
    "print_model = model.summary()\n",
    "print(print_model)"
   ]
  },
  {
   "cell_type": "code",
   "execution_count": 671,
   "id": "0e9feaae",
   "metadata": {},
   "outputs": [
    {
     "data": {
      "text/plain": [
       "0.5527602473145632"
      ]
     },
     "execution_count": 671,
     "metadata": {},
     "output_type": "execute_result"
    }
   ],
   "source": [
    "# Score the model\n",
    "regr.score(X, y)"
   ]
  },
  {
   "cell_type": "code",
   "execution_count": 672,
   "id": "0bb693cf",
   "metadata": {},
   "outputs": [],
   "source": [
    "#.................."
   ]
  },
  {
   "cell_type": "code",
   "execution_count": 673,
   "id": "14ec6286",
   "metadata": {},
   "outputs": [
    {
     "data": {
      "text/plain": [
       "'/Users/danielsquires/Desktop/Modeling/2nd_modeling_target_sleep_quality'"
      ]
     },
     "execution_count": 673,
     "metadata": {},
     "output_type": "execute_result"
    }
   ],
   "source": [
    "#Use joblib to save the best model which is linear at 0.603248893596652 accuracy\n",
    "from joblib import load, dump\n",
    "dump(linear, \"linear.joblib\")\n",
    "\n",
    "import os\n",
    "os.getcwd()\n",
    "# Reference\n",
    "# model = load(\"linear.joblib\")"
   ]
  },
  {
   "cell_type": "code",
   "execution_count": null,
   "id": "75ebbe72",
   "metadata": {},
   "outputs": [],
   "source": []
  },
  {
   "cell_type": "code",
   "execution_count": null,
   "id": "1aab8b32",
   "metadata": {},
   "outputs": [],
   "source": []
  },
  {
   "cell_type": "code",
   "execution_count": null,
   "id": "50349618",
   "metadata": {},
   "outputs": [],
   "source": []
  }
 ],
 "metadata": {
  "kernelspec": {
   "display_name": "mlenv",
   "language": "python",
   "name": "mlenv"
  },
  "language_info": {
   "codemirror_mode": {
    "name": "ipython",
    "version": 3
   },
   "file_extension": ".py",
   "mimetype": "text/x-python",
   "name": "python",
   "nbconvert_exporter": "python",
   "pygments_lexer": "ipython3",
   "version": "3.7.11"
  }
 },
 "nbformat": 4,
 "nbformat_minor": 5
}
